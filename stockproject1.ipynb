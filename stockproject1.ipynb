{
  "nbformat": 4,
  "nbformat_minor": 0,
  "metadata": {
    "colab": {
      "name": "stockproject1.ipynb",
      "provenance": []
    },
    "kernelspec": {
      "name": "python3",
      "display_name": "Python 3"
    }
  },
  "cells": [
    {
      "cell_type": "markdown",
      "metadata": {
        "id": "4MTO5dPjx09U"
      },
      "source": [
        "#Purpose"
      ]
    },
    {
      "cell_type": "markdown",
      "metadata": {
        "id": "WTuZbbfK5cFj"
      },
      "source": [
        "The purpose of this notebook is to use the Yahoo finance library to retrieve, display, and visualize the data of a given stock. "
      ]
    },
    {
      "cell_type": "markdown",
      "metadata": {
        "id": "D80pV8R6SUjM"
      },
      "source": [
        "#Import Libraries"
      ]
    },
    {
      "cell_type": "code",
      "metadata": {
        "colab": {
          "base_uri": "https://localhost:8080/"
        },
        "id": "Jnz-8PwSOn5C",
        "outputId": "38d466ec-b40c-404c-e18d-d272f755dd27"
      },
      "source": [
        "!pip install yfinance"
      ],
      "execution_count": null,
      "outputs": [
        {
          "output_type": "stream",
          "text": [
            "Collecting yfinance\n",
            "  Downloading https://files.pythonhosted.org/packages/7a/e8/b9d7104d3a4bf39924799067592d9e59119fcfc900a425a12e80a3123ec8/yfinance-0.1.55.tar.gz\n",
            "Requirement already satisfied: pandas>=0.24 in /usr/local/lib/python3.7/dist-packages (from yfinance) (1.1.5)\n",
            "Requirement already satisfied: numpy>=1.15 in /usr/local/lib/python3.7/dist-packages (from yfinance) (1.19.5)\n",
            "Requirement already satisfied: requests>=2.20 in /usr/local/lib/python3.7/dist-packages (from yfinance) (2.23.0)\n",
            "Requirement already satisfied: multitasking>=0.0.7 in /usr/local/lib/python3.7/dist-packages (from yfinance) (0.0.9)\n",
            "Collecting lxml>=4.5.1\n",
            "\u001b[?25l  Downloading https://files.pythonhosted.org/packages/d2/88/b25778f17e5320c1c58f8c5060fb5b037288e162bd7554c30799e9ea90db/lxml-4.6.2-cp37-cp37m-manylinux1_x86_64.whl (5.5MB)\n",
            "\u001b[K     |████████████████████████████████| 5.5MB 6.4MB/s \n",
            "\u001b[?25hRequirement already satisfied: python-dateutil>=2.7.3 in /usr/local/lib/python3.7/dist-packages (from pandas>=0.24->yfinance) (2.8.1)\n",
            "Requirement already satisfied: pytz>=2017.2 in /usr/local/lib/python3.7/dist-packages (from pandas>=0.24->yfinance) (2018.9)\n",
            "Requirement already satisfied: certifi>=2017.4.17 in /usr/local/lib/python3.7/dist-packages (from requests>=2.20->yfinance) (2020.12.5)\n",
            "Requirement already satisfied: chardet<4,>=3.0.2 in /usr/local/lib/python3.7/dist-packages (from requests>=2.20->yfinance) (3.0.4)\n",
            "Requirement already satisfied: idna<3,>=2.5 in /usr/local/lib/python3.7/dist-packages (from requests>=2.20->yfinance) (2.10)\n",
            "Requirement already satisfied: urllib3!=1.25.0,!=1.25.1,<1.26,>=1.21.1 in /usr/local/lib/python3.7/dist-packages (from requests>=2.20->yfinance) (1.24.3)\n",
            "Requirement already satisfied: six>=1.5 in /usr/local/lib/python3.7/dist-packages (from python-dateutil>=2.7.3->pandas>=0.24->yfinance) (1.15.0)\n",
            "Building wheels for collected packages: yfinance\n",
            "  Building wheel for yfinance (setup.py) ... \u001b[?25l\u001b[?25hdone\n",
            "  Created wheel for yfinance: filename=yfinance-0.1.55-py2.py3-none-any.whl size=22616 sha256=25f7232db893917d5b3207aa5abd657a3fd2eecb1483f75afe8e091de64d5aff\n",
            "  Stored in directory: /root/.cache/pip/wheels/04/98/cc/2702a4242d60bdc14f48b4557c427ded1fe92aedf257d4565c\n",
            "Successfully built yfinance\n",
            "Installing collected packages: lxml, yfinance\n",
            "  Found existing installation: lxml 4.2.6\n",
            "    Uninstalling lxml-4.2.6:\n",
            "      Successfully uninstalled lxml-4.2.6\n",
            "Successfully installed lxml-4.6.2 yfinance-0.1.55\n"
          ],
          "name": "stdout"
        }
      ]
    },
    {
      "cell_type": "code",
      "metadata": {
        "id": "gLQqC9WjOwSk"
      },
      "source": [
        "import yfinance as yf\r\n",
        "import pandas as pd"
      ],
      "execution_count": null,
      "outputs": []
    },
    {
      "cell_type": "markdown",
      "metadata": {
        "id": "y5HYXS9_O2Zq"
      },
      "source": [
        "#Retrieve Stock Data"
      ]
    },
    {
      "cell_type": "code",
      "metadata": {
        "colab": {
          "base_uri": "https://localhost:8080/"
        },
        "id": "cGi08VSuyC4H",
        "outputId": "585a429f-cb9e-4edb-d962-e994d9386da7"
      },
      "source": [
        "gamestop= yf.Ticker('GME')\r\n",
        "gamestopinfo= gamestop.info\r\n",
        "gamestopinfo"
      ],
      "execution_count": null,
      "outputs": [
        {
          "output_type": "execute_result",
          "data": {
            "text/plain": [
              "{'52WeekChange': 30.34748,\n",
              " 'SandP52WeekChange': 0.236467,\n",
              " 'address1': '625 Westport Parkway',\n",
              " 'algorithm': None,\n",
              " 'annualHoldingsTurnover': None,\n",
              " 'annualReportExpenseRatio': None,\n",
              " 'ask': 124,\n",
              " 'askSize': 900,\n",
              " 'averageDailyVolume10Day': 62237485,\n",
              " 'averageVolume': 40045733,\n",
              " 'averageVolume10days': 62237485,\n",
              " 'beta': -1.947171,\n",
              " 'beta3Year': None,\n",
              " 'bid': 123.09,\n",
              " 'bidSize': 900,\n",
              " 'bookValue': 5.095,\n",
              " 'category': None,\n",
              " 'circulatingSupply': None,\n",
              " 'city': 'Grapevine',\n",
              " 'companyOfficers': [],\n",
              " 'country': 'United States',\n",
              " 'currency': 'USD',\n",
              " 'dateShortInterest': 1613088000,\n",
              " 'dayHigh': 127.75,\n",
              " 'dayLow': 113.12,\n",
              " 'dividendRate': None,\n",
              " 'dividendYield': None,\n",
              " 'earningsQuarterlyGrowth': None,\n",
              " 'enterpriseToEbitda': -70.377,\n",
              " 'enterpriseToRevenue': 1.764,\n",
              " 'enterpriseValue': 9106734080,\n",
              " 'exDividendDate': 1552521600,\n",
              " 'exchange': 'NYQ',\n",
              " 'exchangeTimezoneName': 'America/New_York',\n",
              " 'exchangeTimezoneShortName': 'EST',\n",
              " 'expireDate': None,\n",
              " 'fiftyDayAverage': 88.30324,\n",
              " 'fiftyTwoWeekHigh': 483,\n",
              " 'fiftyTwoWeekLow': 2.57,\n",
              " 'fiveYearAverageReturn': None,\n",
              " 'fiveYearAvgDividendYield': None,\n",
              " 'floatShares': 45156972,\n",
              " 'forwardEps': -0.21,\n",
              " 'forwardPE': -592.8572,\n",
              " 'fromCurrency': None,\n",
              " 'fullTimeEmployees': 14000,\n",
              " 'fundFamily': None,\n",
              " 'fundInceptionDate': None,\n",
              " 'gmtOffSetMilliseconds': '-18000000',\n",
              " 'heldPercentInsiders': 0.27334,\n",
              " 'heldPercentInstitutions': 1.2204499,\n",
              " 'impliedSharesOutstanding': None,\n",
              " 'industry': 'Specialty Retail',\n",
              " 'isEsgPopulated': False,\n",
              " 'lastCapGain': None,\n",
              " 'lastDividendDate': 1552521600,\n",
              " 'lastDividendValue': 0.38,\n",
              " 'lastFiscalYearEnd': 1580515200,\n",
              " 'lastMarket': None,\n",
              " 'lastSplitDate': 1174262400,\n",
              " 'lastSplitFactor': '2:1',\n",
              " 'legalType': None,\n",
              " 'logo_url': 'https://logo.clearbit.com/gamestop.com',\n",
              " 'longBusinessSummary': 'GameStop Corp. operates as a multichannel video game, consumer electronics, and collectibles retailer in the United States, Canada, Australia, and Europe. The company sells new and pre-owned video game platforms; accessories, including controllers, gaming headsets, virtual reality products, and memory cards; new and pre-owned video game software; and in-game digital currency, digital downloadable content, and full-game downloads, as well as network points cards, and prepaid digital and prepaid subscription cards. It also sells collectibles comprising licensed merchandise primarily related to the video game, television, and movie industries, as well as pop culture themes. The company operates its stores and e-commerce sites under the GameStop, EB Games, and Micromania brands; and collectibles stores under the Zing Pop Culture and ThinkGeek brand, as well as offers Game Informer, a print and digital video game publication featuring reviews of new title releases, game tips, and news regarding the video game industry. As of February 1, 2020, the company operated 5,509 stores across 14 countries. The company was formerly known as GSC Holdings Corp. GameStop Corp. was founded in 1996 and is headquartered in Grapevine, Texas.',\n",
              " 'longName': 'GameStop Corp.',\n",
              " 'market': 'us_market',\n",
              " 'marketCap': 8683501568,\n",
              " 'maxAge': 1,\n",
              " 'maxSupply': None,\n",
              " 'messageBoardId': 'finmb_1342560',\n",
              " 'morningStarOverallRating': None,\n",
              " 'morningStarRiskRating': None,\n",
              " 'mostRecentQuarter': 1604102400,\n",
              " 'navPrice': None,\n",
              " 'netIncomeToCommon': -270000000,\n",
              " 'nextFiscalYearEnd': 1643673600,\n",
              " 'open': 122.51,\n",
              " 'openInterest': None,\n",
              " 'payoutRatio': 0,\n",
              " 'pegRatio': 0.17,\n",
              " 'phone': '817 424 2000',\n",
              " 'previousClose': 118.18,\n",
              " 'priceHint': 2,\n",
              " 'priceToBook': 24.435722,\n",
              " 'priceToSalesTrailing12Months': 1.6822623,\n",
              " 'profitMargins': -0.053239997,\n",
              " 'quoteType': 'EQUITY',\n",
              " 'regularMarketDayHigh': 127.75,\n",
              " 'regularMarketDayLow': 113.12,\n",
              " 'regularMarketOpen': 122.51,\n",
              " 'regularMarketPreviousClose': 118.18,\n",
              " 'regularMarketPrice': 122.51,\n",
              " 'regularMarketVolume': 17624038,\n",
              " 'revenueQuarterlyGrowth': None,\n",
              " 'sector': 'Consumer Cyclical',\n",
              " 'sharesOutstanding': 69747000,\n",
              " 'sharesPercentSharesOut': 0.2361,\n",
              " 'sharesShort': 16468038,\n",
              " 'sharesShortPreviousMonthDate': 1610668800,\n",
              " 'sharesShortPriorMonth': 61782730,\n",
              " 'shortName': 'GameStop Corporation',\n",
              " 'shortPercentOfFloat': 0.6035,\n",
              " 'shortRatio': 0.23,\n",
              " 'startDate': None,\n",
              " 'state': 'TX',\n",
              " 'strikePrice': None,\n",
              " 'symbol': 'GME',\n",
              " 'threeYearAverageReturn': None,\n",
              " 'toCurrency': None,\n",
              " 'totalAssets': None,\n",
              " 'tradeable': False,\n",
              " 'trailingAnnualDividendRate': 0,\n",
              " 'trailingAnnualDividendYield': 0,\n",
              " 'trailingEps': -4.224,\n",
              " 'twoHundredDayAverage': 31.078382,\n",
              " 'volume': 17624038,\n",
              " 'volume24Hr': None,\n",
              " 'volumeAllCurrencies': None,\n",
              " 'website': 'http://www.gamestop.com',\n",
              " 'yield': None,\n",
              " 'ytdReturn': None,\n",
              " 'zip': '76051'}"
            ]
          },
          "metadata": {
            "tags": []
          },
          "execution_count": 4
        }
      ]
    },
    {
      "cell_type": "code",
      "metadata": {
        "colab": {
          "base_uri": "https://localhost:8080/"
        },
        "id": "p9jvWKO212En",
        "outputId": "8cfc0a4c-27b2-4e35-e318-5a9e6a80661f"
      },
      "source": [
        "print(gamestopinfo['country'])\r\n",
        "print(gamestopinfo['ask'])\r\n",
        "print(gamestopinfo['dayHigh'])\r\n",
        "print(gamestopinfo['dayLow'])"
      ],
      "execution_count": null,
      "outputs": [
        {
          "output_type": "stream",
          "text": [
            "United States\n",
            "124\n",
            "127.75\n",
            "113.12\n"
          ],
          "name": "stdout"
        }
      ]
    },
    {
      "cell_type": "markdown",
      "metadata": {
        "id": "dNPnZ53oRv3i"
      },
      "source": [
        "#Visualize Stock Data"
      ]
    },
    {
      "cell_type": "code",
      "metadata": {
        "id": "h8kdRgf7R1BR"
      },
      "source": [
        "gmeshare= gamestop.history(period=\"max\")"
      ],
      "execution_count": null,
      "outputs": []
    },
    {
      "cell_type": "code",
      "metadata": {
        "colab": {
          "base_uri": "https://localhost:8080/",
          "height": 235
        },
        "id": "7wfahnIzR3ev",
        "outputId": "7c1b4f24-d6a0-4b88-8184-762d2bda63b3"
      },
      "source": [
        "gmeshare.head()"
      ],
      "execution_count": null,
      "outputs": [
        {
          "output_type": "execute_result",
          "data": {
            "text/html": [
              "<div>\n",
              "<style scoped>\n",
              "    .dataframe tbody tr th:only-of-type {\n",
              "        vertical-align: middle;\n",
              "    }\n",
              "\n",
              "    .dataframe tbody tr th {\n",
              "        vertical-align: top;\n",
              "    }\n",
              "\n",
              "    .dataframe thead th {\n",
              "        text-align: right;\n",
              "    }\n",
              "</style>\n",
              "<table border=\"1\" class=\"dataframe\">\n",
              "  <thead>\n",
              "    <tr style=\"text-align: right;\">\n",
              "      <th></th>\n",
              "      <th>Open</th>\n",
              "      <th>High</th>\n",
              "      <th>Low</th>\n",
              "      <th>Close</th>\n",
              "      <th>Volume</th>\n",
              "      <th>Dividends</th>\n",
              "      <th>Stock Splits</th>\n",
              "    </tr>\n",
              "    <tr>\n",
              "      <th>Date</th>\n",
              "      <th></th>\n",
              "      <th></th>\n",
              "      <th></th>\n",
              "      <th></th>\n",
              "      <th></th>\n",
              "      <th></th>\n",
              "      <th></th>\n",
              "    </tr>\n",
              "  </thead>\n",
              "  <tbody>\n",
              "    <tr>\n",
              "      <th>2002-02-13</th>\n",
              "      <td>6.480513</td>\n",
              "      <td>6.773399</td>\n",
              "      <td>6.413183</td>\n",
              "      <td>6.766666</td>\n",
              "      <td>19054000</td>\n",
              "      <td>0.0</td>\n",
              "      <td>0.0</td>\n",
              "    </tr>\n",
              "    <tr>\n",
              "      <th>2002-02-14</th>\n",
              "      <td>6.850831</td>\n",
              "      <td>6.864296</td>\n",
              "      <td>6.682506</td>\n",
              "      <td>6.733003</td>\n",
              "      <td>2755400</td>\n",
              "      <td>0.0</td>\n",
              "      <td>0.0</td>\n",
              "    </tr>\n",
              "    <tr>\n",
              "      <th>2002-02-15</th>\n",
              "      <td>6.733001</td>\n",
              "      <td>6.749833</td>\n",
              "      <td>6.632006</td>\n",
              "      <td>6.699336</td>\n",
              "      <td>2097400</td>\n",
              "      <td>0.0</td>\n",
              "      <td>0.0</td>\n",
              "    </tr>\n",
              "    <tr>\n",
              "      <th>2002-02-19</th>\n",
              "      <td>6.665671</td>\n",
              "      <td>6.665671</td>\n",
              "      <td>6.312189</td>\n",
              "      <td>6.430017</td>\n",
              "      <td>1852600</td>\n",
              "      <td>0.0</td>\n",
              "      <td>0.0</td>\n",
              "    </tr>\n",
              "    <tr>\n",
              "      <th>2002-02-20</th>\n",
              "      <td>6.463681</td>\n",
              "      <td>6.648838</td>\n",
              "      <td>6.413183</td>\n",
              "      <td>6.648838</td>\n",
              "      <td>1723200</td>\n",
              "      <td>0.0</td>\n",
              "      <td>0.0</td>\n",
              "    </tr>\n",
              "  </tbody>\n",
              "</table>\n",
              "</div>"
            ],
            "text/plain": [
              "                Open      High       Low  ...    Volume  Dividends  Stock Splits\n",
              "Date                                      ...                                   \n",
              "2002-02-13  6.480513  6.773399  6.413183  ...  19054000        0.0           0.0\n",
              "2002-02-14  6.850831  6.864296  6.682506  ...   2755400        0.0           0.0\n",
              "2002-02-15  6.733001  6.749833  6.632006  ...   2097400        0.0           0.0\n",
              "2002-02-19  6.665671  6.665671  6.312189  ...   1852600        0.0           0.0\n",
              "2002-02-20  6.463681  6.648838  6.413183  ...   1723200        0.0           0.0\n",
              "\n",
              "[5 rows x 7 columns]"
            ]
          },
          "metadata": {
            "tags": []
          },
          "execution_count": 38
        }
      ]
    },
    {
      "cell_type": "code",
      "metadata": {
        "id": "0OWRFARCR5vu"
      },
      "source": [
        "gmeshare.reset_index(inplace=True)"
      ],
      "execution_count": null,
      "outputs": []
    },
    {
      "cell_type": "markdown",
      "metadata": {
        "id": "xmfCjyrc-xlU"
      },
      "source": [
        "The price of the first trade for any listed stock is its daily opening price."
      ]
    },
    {
      "cell_type": "code",
      "metadata": {
        "colab": {
          "base_uri": "https://localhost:8080/",
          "height": 302
        },
        "id": "I_izGTwZR7jj",
        "outputId": "600129e1-9ecf-4bd9-f148-187c958e6ad1"
      },
      "source": [
        "gmeshare.plot(\r\n",
        "    title='Gamestop share price graph',\r\n",
        "    x=\"Date\", y=\"Open\")"
      ],
      "execution_count": null,
      "outputs": [
        {
          "output_type": "execute_result",
          "data": {
            "text/plain": [
              "<matplotlib.axes._subplots.AxesSubplot at 0x7f86d33c5e90>"
            ]
          },
          "metadata": {
            "tags": []
          },
          "execution_count": 49
        },
        {
          "output_type": "display_data",
          "data": {
            "image/png": "[encoded data removed]",
            "text/plain": [
              "<Figure size 432x288 with 1 Axes>"
            ]
          },
          "metadata": {
            "tags": [],
            "needs_background": "light"
          }
        }
      ]
    }
  ]
}